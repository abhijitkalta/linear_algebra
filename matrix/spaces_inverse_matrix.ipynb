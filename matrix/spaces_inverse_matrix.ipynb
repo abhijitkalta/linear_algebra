{
 "cells": [
  {
   "cell_type": "code",
   "execution_count": 1,
   "id": "13e9e51e",
   "metadata": {},
   "outputs": [],
   "source": [
    "import numpy as np\n",
    "import matplotlib.pyplot as plt\n",
    "from mpl_toolkits.mplot3d import Axes3D\n",
    "import sympy as sp"
   ]
  },
  {
   "cell_type": "code",
   "execution_count": 19,
   "id": "a88424b7",
   "metadata": {},
   "outputs": [
    {
     "data": {
      "image/png": "[encoded data removed]",
      "text/plain": [
       "<Figure size 432x288 with 1 Axes>"
      ]
     },
     "metadata": {
      "needs_background": "light"
     },
     "output_type": "display_data"
    }
   ],
   "source": [
    "# Column space of a matrix\n",
    "\n",
    "S = np.vstack(([3, 5, 1], [0, 2, 2])).T\n",
    "\n",
    "v1 = np.array([[-3, 1, 5]]).T\n",
    "v2 = np.array([[1, 7, 3]]).T\n",
    "\n",
    "fig = plt.figure()\n",
    "axes = fig.add_subplot(projection = '3d')\n",
    "\n",
    "# Draw planes\n",
    "xx, yy = np.meshgrid(np.linspace(-5, 5, 10), np.linspace(-5, 5, 10))\n",
    "cp = np.cross(S[:, 0], S[:, 1])\n",
    "z1 = (-cp[0]*xx - cp[1]*yy)/cp[2]\n",
    "axes.plot_surface(xx, yy, z1, alpha = 0.2)\n",
    "\n",
    "axes.plot([0, S[0, 0]], [0, S[1, 0]], [0, S[2, 0]], 'k')\n",
    "axes.plot([0, S[0, 1]], [0, S[1, 1]], [0, S[2, 1]], 'k')\n",
    "\n",
    "axes.plot([0, v1[0]], [0, v1[1]], [0, v1[2]], 'r', label = 'v1')\n",
    "axes.plot([0, v2[0]], [0, v2[1]], [0, v2[2]], 'y', label = 'v2')\n",
    "\n",
    "axes.legend()\n",
    "axes.view_init(elev = 50, azim = 0)\n",
    "plt.show()"
   ]
  },
  {
   "cell_type": "code",
   "execution_count": 33,
   "id": "a25c815f",
   "metadata": {},
   "outputs": [
    {
     "name": "stdout",
     "output_type": "stream",
     "text": [
      "⎡1  1.0  0  0  0⎤\n",
      "⎢               ⎥\n",
      "⎢0   0   1  0  0⎥\n",
      "⎢               ⎥\n",
      "⎢0   0   0  1  0⎥\n",
      "⎢               ⎥\n",
      "⎢0   0   0  0  1⎥\n",
      "⎢               ⎥\n",
      "⎣0   0   0  0  0⎦\n"
     ]
    }
   ],
   "source": [
    "# Reduced row echleon form\n",
    "sp.init_printing()\n",
    "m = 5\n",
    "n = 5\n",
    "A = np.random.randn(m, n)\n",
    "\n",
    "# Add linear dependency\n",
    "A[:, 0] = A[:, 1]\n",
    "\n",
    "sp.pprint(sp.Matrix(A).rref()[0])"
   ]
  },
  {
   "cell_type": "code",
   "execution_count": 34,
   "id": "743f4b76",
   "metadata": {},
   "outputs": [
    {
     "name": "stdout",
     "output_type": "stream",
     "text": [
      "0\n"
     ]
    }
   ],
   "source": [
    "# Determinant of a matrix\n",
    "sp.pprint(sp.Matrix(A).det())"
   ]
  },
  {
   "cell_type": "code",
   "execution_count": 46,
   "id": "41c63619",
   "metadata": {},
   "outputs": [
    {
     "name": "stdout",
     "output_type": "stream",
     "text": [
      "a⋅e⋅i - a⋅f⋅h - b⋅d⋅i + b⋅f⋅g + c⋅d⋅h - c⋅e⋅g\n",
      "1.00000000000000\n",
      "[[1 3]\n",
      " [2 3]]\n",
      "\n",
      "-2.9999999999999996\n"
     ]
    }
   ],
   "source": [
    "a, b, c, d, e, f, g, h, i = sp.symbols('a b c d e f g h i')\n",
    "M = sp.Matrix(([a, b, c],[d, e, f], [g, h, i]))\n",
    "sp.pprint(M.det())\n",
    "\n",
    "# Identity matrix\n",
    "I = np.eye(5)\n",
    "sp.pprint(sp.Matrix(I).det())  # Determinant of identity matrix is always 1\n",
    "\n",
    "A = np.array([[1, 3], [2, 3]])\n",
    "print(A), print('')\n",
    "print(np.linalg.det(A))"
   ]
  },
  {
   "cell_type": "code",
   "execution_count": 51,
   "id": "c18bf093",
   "metadata": {},
   "outputs": [
    {
     "name": "stdout",
     "output_type": "stream",
     "text": [
      "[[-0.6046277  -0.25989656  1.76078637  0.25620213  0.0594544 ]\n",
      " [ 0.09094611 -0.74127178 -0.15443335  0.70087255  0.19027203]\n",
      " [ 1.27428277 -0.64242973  0.32041239  0.81611712  0.30283944]\n",
      " [-0.34567672 -1.26296054  1.07476916  0.07722032 -0.00314946]\n",
      " [-0.18569171 -0.05140061  1.37645338  1.08842355  0.21298476]]\n",
      "\n",
      "0.21630892449208655\n",
      "[[ 0.09094611 -0.74127178 -0.15443335  0.70087255  0.19027203]\n",
      " [ 1.27428277 -0.64242973  0.32041239  0.81611712  0.30283944]\n",
      " [-0.34567672 -1.26296054  1.07476916  0.07722032 -0.00314946]\n",
      " [-0.6046277  -0.25989656  1.76078637  0.25620213  0.0594544 ]\n",
      " [-0.18569171 -0.05140061  1.37645338  1.08842355  0.21298476]]\n",
      "\n",
      "0.21630892449208655\n",
      "[[-0.6046277  -0.25989656  1.76078637  0.25620213  0.0594544 ]\n",
      " [ 0.09094611 -0.74127178 -0.15443335  0.70087255  0.19027203]\n",
      " [-0.34567672 -1.26296054  1.07476916  0.07722032 -0.00314946]\n",
      " [ 1.27428277 -0.64242973  0.32041239  0.81611712  0.30283944]\n",
      " [-0.18569171 -0.05140061  1.37645338  1.08842355  0.21298476]]\n",
      "\n",
      "-0.21630892449208655\n"
     ]
    }
   ],
   "source": [
    "# Single row swap flips the sign determinant\n",
    "A = np.random.randn(5, 5)\n",
    "print(A), print('')\n",
    "print(np.linalg.det(A))\n",
    "\n",
    "B = A[[1, 2, 3, 0, 4], :]\n",
    "print(B), print('')\n",
    "print(np.linalg.det(A))  # After 4 swaps\n",
    "\n",
    "C = A[[0, 1, 3, 2, 4], :]\n",
    "print(C), print('')\n",
    "print(np.linalg.det(C))  # After 1 swap"
   ]
  },
  {
   "cell_type": "code",
   "execution_count": 58,
   "id": "8a70ac21",
   "metadata": {},
   "outputs": [
    {
     "name": "stdout",
     "output_type": "stream",
     "text": [
      "[-2, 2]\n"
     ]
    }
   ],
   "source": [
    "A = sp.Matrix(([a, 2], [2, a]))\n",
    "d = 0\n",
    "res = sp.solve(A.det() - d, a)\n",
    "print(res)"
   ]
  },
  {
   "cell_type": "code",
   "execution_count": 78,
   "id": "41261cdb",
   "metadata": {},
   "outputs": [
    {
     "name": "stdout",
     "output_type": "stream",
     "text": [
      "-3.761716627436297 6.1743248996790765 -23.226060638316707 -23.226060638316728\n"
     ]
    }
   ],
   "source": [
    "# det(A@B) = det(A) * det(B)\n",
    "A = np.random.randn(5, 5)\n",
    "B = np.random.randn(5, 5)\n",
    "detA = np.linalg.det(A)\n",
    "detB = np.linalg.det(B)\n",
    "detAB = np.linalg.det(A@B)\n",
    "print(detA, detB, detAB, detA*detB)"
   ]
  },
  {
   "cell_type": "code",
   "execution_count": 84,
   "id": "3fd56879",
   "metadata": {},
   "outputs": [
    {
     "data": {
      "image/png": "[encoded data removed]",
      "text/plain": [
       "<Figure size 432x288 with 3 Axes>"
      ]
     },
     "metadata": {
      "needs_background": "light"
     },
     "output_type": "display_data"
    }
   ],
   "source": [
    "Ainv = np.linalg.inv(A)\n",
    "I = A@Ainv\n",
    "\n",
    "plt.subplot(131)\n",
    "plt.imshow(A)\n",
    "plt.title('Matrix A')\n",
    "\n",
    "plt.subplot(132)\n",
    "plt.imshow(Ainv)\n",
    "plt.title('Matrix $A^{-1}$')\n",
    "\n",
    "plt.subplot(133)\n",
    "plt.imshow(I)\n",
    "plt.title('Matrix A$A^{-1}$')\n",
    "plt.show()"
   ]
  },
  {
   "cell_type": "code",
   "execution_count": 107,
   "id": "a29d28ff",
   "metadata": {},
   "outputs": [
    {
     "name": "stdout",
     "output_type": "stream",
     "text": [
      "⎡  0    16.0   10.0   1.0   1.0   0    0    0 ⎤\n",
      "⎢                                             ⎥\n",
      "⎢-11.0  -12.0  -9.0  -17.0   0   1.0   0    0 ⎥\n",
      "⎢                                             ⎥\n",
      "⎢-28.0   5.0   1.0   12.0    0    0   1.0   0 ⎥\n",
      "⎢                                             ⎥\n",
      "⎣-1.0    6.0   -3.0  -15.0   0    0    0   1.0⎦\n",
      "\n",
      "(4, 8)\n",
      "\n",
      "⎡1  0  0  0  -0.021142162818955   -0.0309842041312272  -0.0240583232077764  0.\n",
      "⎢                                                                             \n",
      "⎢0  1  0  0  -0.0383961117861482  -0.0735115431348724   0.025273390036452    0\n",
      "⎢                                                                             \n",
      "⎢0  0  1  0   0.166151709772609    0.122808540183996   -0.0424579066134352  -0\n",
      "⎢                                                                             \n",
      "⎣0  0  0  1  -0.0471793091477174  -0.0519007116819997  0.0202048255511196   0.\n",
      "\n",
      "0144592952612394 ⎤\n",
      "                 ⎥\n",
      ".10097205346294  ⎥\n",
      "                 ⎥\n",
      ".162072556847769 ⎥\n",
      "                 ⎥\n",
      "00517271307064746⎦\n",
      "⎡-0.021142162818955   -0.0309842041312272  -0.0240583232077764  0.014459295261\n",
      "⎢                                                                             \n",
      "⎢-0.0383961117861482  -0.0735115431348724   0.025273390036452    0.10097205346\n",
      "⎢                                                                             \n",
      "⎢ 0.166151709772609    0.122808540183996   -0.0424579066134352  -0.16207255684\n",
      "⎢                                                                             \n",
      "⎣-0.0471793091477174  -0.0519007116819997  0.0202048255511196   0.005172713070\n",
      "\n",
      "2394 ⎤\n",
      "     ⎥\n",
      "294  ⎥\n",
      "     ⎥\n",
      "7769 ⎥\n",
      "     ⎥\n",
      "64746⎦\n",
      "⎡-0.021142162818955   -0.0309842041312272  -0.0240583232077764  0.014459295261\n",
      "⎢                                                                             \n",
      "⎢-0.0383961117861482  -0.0735115431348724   0.025273390036452    0.10097205346\n",
      "⎢                                                                             \n",
      "⎢ 0.166151709772609    0.122808540183996   -0.0424579066134352  -0.16207255684\n",
      "⎢                                                                             \n",
      "⎣-0.0471793091477174  -0.0519007116819997  0.0202048255511196   0.005172713070\n",
      "\n",
      "2394 ⎤\n",
      "     ⎥\n",
      "294  ⎥\n",
      "     ⎥\n",
      "7769 ⎥\n",
      "     ⎥\n",
      "64746⎦\n"
     ]
    },
    {
     "data": {
      "image/png": "[encoded data removed]",
      "text/plain": [
       "<Figure size 432x288 with 3 Axes>"
      ]
     },
     "metadata": {
      "needs_background": "light"
     },
     "output_type": "display_data"
    }
   ],
   "source": [
    "# Matrix inverse by row reduction\n",
    "\n",
    "m = 4\n",
    "\n",
    "A = sp.Matrix(np.round(10*np.random.randn(m, m)), dtype = 'float')\n",
    "\n",
    "Aaug = sp.Matrix(np.concatenate((A, np.eye(m)), axis = 1))\n",
    "sp.pprint(Aaug), print('')\n",
    "print(Aaug.shape), print('')\n",
    "\n",
    "# rref\n",
    "Asol = Aaug.rref()\n",
    "sp.pprint(Asol[0])\n",
    "Ainvrref = Asol[0][:, m:]\n",
    "Ainv = A.inv()\n",
    "sp.pprint(Ainvrref)\n",
    "sp.pprint(Ainv)\n",
    "\n",
    "#plot\n",
    "plt.subplot(131)\n",
    "plt.imshow(sp.matrix2numpy(A, dtype = 'float'))\n",
    "plt.title('Matrix A')\n",
    "plt.axis('off')\n",
    "\n",
    "plt.subplot(132)\n",
    "plt.imshow(sp.matrix2numpy(Ainvrref, dtype = 'float'))\n",
    "plt.title('A$^{-1}$ from rref')\n",
    "plt.axis('off')\n",
    "\n",
    "plt.subplot(133)\n",
    "plt.imshow(sp.matrix2numpy(Ainv, dtype = 'float'))\n",
    "plt.title('A$^{-1}$ from ainv')\n",
    "plt.axis('off')\n",
    "\n",
    "plt.show()"
   ]
  },
  {
   "cell_type": "code",
   "execution_count": 114,
   "id": "666bda96",
   "metadata": {},
   "outputs": [
    {
     "name": "stdout",
     "output_type": "stream",
     "text": [
      "[[ 1.          0.          0.          0.          0.        ]\n",
      " [ 0.          0.5         0.          0.          0.        ]\n",
      " [ 0.          0.          0.33333333  0.          0.        ]\n",
      " [-0.         -0.         -0.          0.25       -0.        ]\n",
      " [ 0.          0.          0.          0.          0.2       ]]\n"
     ]
    }
   ],
   "source": [
    "# Inverse of a diagonal matrix\n",
    "\n",
    "A = np.diag(np.arange(1, 6))\n",
    "print(np.linalg.inv(A))  # Element values are reciprocals of the element vlaues\n"
   ]
  },
  {
   "cell_type": "code",
   "execution_count": 132,
   "id": "6942e3ef",
   "metadata": {},
   "outputs": [
    {
     "name": "stdout",
     "output_type": "stream",
     "text": [
      "Shape of A^TA: (3, 3)\n",
      "Shape of AA^T: (6, 6)\n",
      "Rank of A^TA: 3\n",
      "Rank of AA^T: 3\n",
      "[[ 1.00000000e+00  3.33066907e-16 -8.32667268e-17]\n",
      " [ 6.93889390e-17  1.00000000e+00  5.55111512e-17]\n",
      " [-2.77555756e-17 -1.31838984e-16  1.00000000e+00]]\n",
      "\n",
      "[[ -0.16601562  -2.5          3.875       -2.15625     -1.90625\n",
      "    0.6796875 ]\n",
      " [  0.2734375  -10.625       -3.375        1.5          1.\n",
      "    0.1640625 ]\n",
      " [ -0.91015625  16.375        1.875       -2.15625     -1.484375\n",
      "    2.5546875 ]\n",
      " [  0.265625     3.125        3.375       -0.5625      -0.34375\n",
      "   -2.0390625 ]\n",
      " [ -0.34179688  11.25        -0.125       -0.1875       0.109375\n",
      "    0.4921875 ]\n",
      " [ -0.61914062 -10.375       -7.75         1.09375      0.53125\n",
      "    5.078125  ]]\n",
      "\n",
      "[[ 1.00000000e+00  3.44207085e-16 -9.78221410e-17]\n",
      " [ 3.85704923e-17  1.00000000e+00  3.14147579e-17]\n",
      " [-1.66967135e-17 -1.84097529e-16  1.00000000e+00]]\n",
      "\n",
      "[[ 20.    -12.     14.      7.5    -0.875 -14.   ]\n",
      " [ 24.    -16.     24.     24.     -1.5   -46.   ]\n",
      " [ -8.      4.      0.     -3.      1.25    4.   ]\n",
      " [ -4.     -4.      0.      5.      0.    -10.   ]\n",
      " [  0.      4.      4.      2.      0.5    14.   ]\n",
      " [ -2.      2.      2.     -1.5    -0.125   1.   ]]\n",
      "\n"
     ]
    },
    {
     "data": {
      "image/png": "[encoded data removed]",
      "text/plain": [
       "<Figure size 432x288 with 7 Axes>"
      ]
     },
     "metadata": {
      "needs_background": "light"
     },
     "output_type": "display_data"
    }
   ],
   "source": [
    "# Left inverse and right inverse\n",
    "# m>n, for left inverse\n",
    "# n>m, for right inverse\n",
    "m = 6\n",
    "n = 3\n",
    "\n",
    "A = np.round(30*np.random.randn(m, n))\n",
    "AtA = A.T@A\n",
    "AAt = A@A.T\n",
    "\n",
    "print('Shape of A^TA: {}'.format(np.shape(AtA)))\n",
    "print('Shape of AA^T: {}'.format(np.shape(AAt)))\n",
    "print('Rank of A^TA: {}'.format(np.linalg.matrix_rank(AtA)))\n",
    "print('Rank of AA^T: {}'.format(np.linalg.matrix_rank(AAt)))\n",
    "\n",
    "#left inverse\n",
    "Aleft = np.linalg.inv(AtA)@A.T\n",
    "\n",
    "#right inverse\n",
    "Aright = A.T@np.linalg.inv(AAt)\n",
    "\n",
    "# Left identity matrix\n",
    "I_left = Aleft @ A\n",
    "print(I_left), print('')\n",
    "\n",
    "# Right identity matrix\n",
    "I_right = A @ Aright\n",
    "print(I_right), print('')\n",
    "\n",
    "\n",
    "#using the inverse function\n",
    "Ata_inv = np.linalg.inv(AtA)\n",
    "I_AtA = Ata_inv @ AtA\n",
    "\n",
    "Aat_inv = np.linalg.inv(AAt)\n",
    "I_AAt = Aat_inv @ AAt\n",
    "\n",
    "print(I_AtA), print('')\n",
    "print(I_AAt), print('')\n",
    "\n",
    "\n",
    "#plot\n",
    "\n",
    "plt.subplot(331)\n",
    "plt.imshow(A), plt.axis('off')\n",
    "plt.title('A')\n",
    "\n",
    "plt.subplot(332)\n",
    "plt.imshow(AtA), plt.axis('off')\n",
    "plt.title('A$^t$A')\n",
    "\n",
    "plt.subplot(333)\n",
    "plt.imshow(AAt), plt.axis('off')\n",
    "plt.title('AA$^T$')\n",
    "\n",
    "plt.subplot(335)\n",
    "plt.imshow(Aleft), plt.axis('off')\n",
    "plt.title('$(A^TA)^{-1}A^T$')\n",
    "\n",
    "plt.subplot(336)\n",
    "plt.imshow(Aright), plt.axis('off')\n",
    "plt.title('$A^T(AA^T)^{-1}$')\n",
    "\n",
    "plt.subplot(338)\n",
    "plt.imshow(I_left), plt.axis('off')\n",
    "plt.title('Left identity')\n",
    "\n",
    "plt.subplot(339)\n",
    "plt.imshow(I_right), plt.axis('off')\n",
    "plt.title('Right identity')\n",
    "\n",
    "plt.show()"
   ]
  },
  {
   "cell_type": "code",
   "execution_count": 134,
   "id": "7aceefc0",
   "metadata": {},
   "outputs": [
    {
     "data": {
      "image/png": "[encoded data removed]",
      "text/plain": [
       "<Figure size 432x288 with 3 Axes>"
      ]
     },
     "metadata": {
      "needs_background": "light"
     },
     "output_type": "display_data"
    }
   ],
   "source": [
    "# Pseudo inverse\n",
    "\n",
    "pseudoInvA = np.linalg.pinv(A)\n",
    "\n",
    "plt.subplot(131)\n",
    "plt.imshow(A), plt.axis('off')\n",
    "plt.title('A')\n",
    "\n",
    "plt.subplot(132)\n",
    "plt.imshow(pseudoInvA), plt.axis('off')\n",
    "plt.title('Pseudoinverse of A')\n",
    "\n",
    "plt.subplot(133)\n",
    "plt.imshow(pseudoInvA@A), plt.axis('off')\n",
    "plt.title('A$^*$A')\n",
    "\n",
    "plt.show()"
   ]
  },
  {
   "cell_type": "code",
   "execution_count": null,
   "id": "46b99c79",
   "metadata": {},
   "outputs": [],
   "source": [
    "# Code challenge - is pseudo inverse same for an invertible matrix\n",
    "\n",
    "m = 5\n",
    "A = np.random.randn(5, 5)\n",
    "\n",
    "Ainv = np.linalg.inv(A)\n",
    "AinvP = np.linalg.pinv(A)\n",
    "\n"
   ]
  }
 ],
 "metadata": {
  "kernelspec": {
   "display_name": "Python 3 (ipykernel)",
   "language": "python",
   "name": "python3"
  },
  "language_info": {
   "codemirror_mode": {
    "name": "ipython",
    "version": 3
   },
   "file_extension": ".py",
   "mimetype": "text/x-python",
   "name": "python",
   "nbconvert_exporter": "python",
   "pygments_lexer": "ipython3",
   "version": "3.9.7"
  }
 },
 "nbformat": 4,
 "nbformat_minor": 5
}
