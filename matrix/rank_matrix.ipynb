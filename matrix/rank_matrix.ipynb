{
 "cells": [
  {
   "cell_type": "code",
   "execution_count": 2,
   "id": "f58c1bdb",
   "metadata": {},
   "outputs": [],
   "source": [
    "import numpy as np\n",
    "import matplotlib.pyplot as plt\n",
    "from mpl_toolkits.mplot3d import Axes3D\n",
    "import sympy as sp"
   ]
  },
  {
   "cell_type": "code",
   "execution_count": 15,
   "id": "27547843",
   "metadata": {},
   "outputs": [
    {
     "name": "stdout",
     "output_type": "stream",
     "text": [
      "Rank = 4\n",
      "[[ 1.28170732 -2.45868759 -1.38405071 -1.41228    -0.0623647   1.17086931]\n",
      " [ 0.11111811  0.03608222 -1.05482184  1.97667322 -0.35773095 -0.25134685]\n",
      " [-0.7435854  -0.38869538  1.89554538  0.23915436  0.81312287 -0.7890655 ]\n",
      " [-0.88521355 -1.06203956 -1.58951002  1.14928125 -0.11425925  0.51386722]]\n",
      "\n",
      "[[ 1.28170732 -2.45868759 -1.38405071 -1.41228    -0.0623647  -0.0623647 ]\n",
      " [ 0.11111811  0.03608222 -1.05482184  1.97667322 -0.35773095 -0.35773095]\n",
      " [-0.7435854  -0.38869538  1.89554538  0.23915436  0.81312287  0.81312287]\n",
      " [-0.88521355 -1.06203956 -1.58951002  1.14928125 -0.11425925 -0.11425925]]\n",
      "\n",
      "Rank = 4\n",
      "[[ 1.28170732 -2.45868759 -1.38405071 -1.41228    -0.0623647  -0.0623647 ]\n",
      " [ 0.11111811  0.03608222 -1.05482184  1.97667322 -0.35773095 -0.35773095]\n",
      " [-0.7435854  -0.38869538  1.89554538  0.23915436  0.81312287  0.81312287]\n",
      " [-0.7435854  -0.38869538  1.89554538  0.23915436  0.81312287  0.81312287]]\n",
      "\n",
      "Rank = 3\n"
     ]
    }
   ],
   "source": [
    "sp.init_printing()\n",
    "m = 4\n",
    "n = 6\n",
    "\n",
    "A = np.random.randn(m, n)\n",
    "\n",
    "# Matrix rank\n",
    "ra = np.linalg.matrix_rank(A)\n",
    "print('Rank = {}'.format(ra))\n",
    "\n",
    "print(A), print('')\n",
    "\n",
    "# Set last column to repeat of penultimate column\n",
    "B = A\n",
    "B[:, -1] = B[:, -2]\n",
    "print(B), print('')\n",
    "rb = np.linalg.matrix_rank(B)\n",
    "print('Rank = {}'.format(rb))  # As rank is min(m, n)\n",
    "\n",
    "# Set last row to repeat of penultimate row\n",
    "C = A\n",
    "C[-1, :] = A[-2, :]\n",
    "print(C), print('')\n",
    "rc = np.linalg.matrix_rank(C)\n",
    "print('Rank = {}'.format(rc))  # As rank is number of independent rows or cols"
   ]
  },
  {
   "cell_type": "code",
   "execution_count": 17,
   "id": "edbb4994",
   "metadata": {},
   "outputs": [
    {
     "name": "stdout",
     "output_type": "stream",
     "text": [
      "Rank without noise: 3\n",
      "Rank with noise: 4\n"
     ]
    }
   ],
   "source": [
    "# Adding noise to see effect on rank - increases the rank\n",
    "\n",
    "A = np.round(10*np.random.randn(m, m))\n",
    "\n",
    "# Reduce the rank\n",
    "A[:, -1] = A[:, -2]\n",
    "\n",
    "# Add noise\n",
    "noise = .001\n",
    "B = A + noise*np.random.randn(m, m)\n",
    "\n",
    "print('Rank without noise: {}'.format(np.linalg.matrix_rank(A)))\n",
    "print('Rank with noise: {}'.format(np.linalg.matrix_rank(B)))"
   ]
  },
  {
   "cell_type": "code",
   "execution_count": 20,
   "id": "057cb334",
   "metadata": {},
   "outputs": [
    {
     "name": "stdout",
     "output_type": "stream",
     "text": [
      "(10, 10)\n",
      "4\n",
      "(8, 47)\n",
      "3\n"
     ]
    }
   ],
   "source": [
    "# Rank of added and multiplied matrix\n",
    "# Rank(A+B) <= Rank(A) + Rank(B)\n",
    "# Rank(AB) <= min(rank(A), rank(B))\n",
    "\n",
    "# Redcued rank matrix using matrix multiplication\n",
    "\n",
    "A = np.random.randn(10, 4)\n",
    "B = np.random.randn(4, 10)\n",
    "C = A@B\n",
    "print(np.shape(C))\n",
    "print(np.linalg.matrix_rank(C))\n",
    "\n",
    "# generalize to m*n rank-r\n",
    "m = 8\n",
    "n = 47\n",
    "r = 3\n",
    "A = np.random.randn(m, r)@np.random.randn(r, n)\n",
    "print(np.shape(A))\n",
    "print(np.linalg.matrix_rank(A))\n"
   ]
  },
  {
   "cell_type": "code",
   "execution_count": 30,
   "id": "0baa2a46",
   "metadata": {},
   "outputs": [
    {
     "name": "stdout",
     "output_type": "stream",
     "text": [
      "Rank of full matrix: 4\n",
      "Rank of reduced matrix: 3\n",
      "Rank of scaled full matrix: 4\n",
      "Rank of scaled reduced matrix: 3\n"
     ]
    }
   ],
   "source": [
    "# Code challenge - test whether the matrix rank is invariant to to scalar multiplication\n",
    "\n",
    "m = 6\n",
    "n = 4\n",
    "\n",
    "F = np.random.randn(m, n)@np.random.randn(n, n)\n",
    "R = np.random.randn(m, n-1)@np.random.randn(n-1, n)\n",
    "\n",
    "print('Rank of full matrix: {}'.format(np.linalg.matrix_rank(F)))\n",
    "print('Rank of reduced matrix: {}'.format(np.linalg.matrix_rank(R)))\n",
    "\n",
    "l = 267353. # Scalar\n",
    "print('Rank of scaled full matrix: {}'.format(np.linalg.matrix_rank(l*F)))\n",
    "print('Rank of scaled reduced matrix: {}'.format(np.linalg.matrix_rank(l*R)))\n",
    "\n",
    "# Scalar multiplication has no effect on rank, doesn't change the dimensionality except the scalar zero"
   ]
  },
  {
   "cell_type": "code",
   "execution_count": 32,
   "id": "b7cba4b6",
   "metadata": {},
   "outputs": [
    {
     "name": "stdout",
     "output_type": "stream",
     "text": [
      "3 3 3 3\n"
     ]
    }
   ],
   "source": [
    "# rank(A) = rank(AA.T) = rank(A.T) = rank(A.TA)\n",
    "\n",
    "m = 14\n",
    "n = 3\n",
    "\n",
    "A = np.round(10*np.random.randn(m, n))\n",
    "AtA = A.T@A\n",
    "AAt = A@A.T\n",
    "\n",
    "print(np.linalg.matrix_rank(AtA), np.linalg.matrix_rank(AAt), np.linalg.matrix_rank(A), np.linalg.matrix_rank(A.T))"
   ]
  },
  {
   "cell_type": "code",
   "execution_count": 34,
   "id": "559d816a",
   "metadata": {},
   "outputs": [
    {
     "name": "stdout",
     "output_type": "stream",
     "text": [
      "Rank wihtout shift: 29\n",
      "Rank with shift: 30\n"
     ]
    }
   ],
   "source": [
    "# Making full-rank matrix by shifting\n",
    "\n",
    "m = 30\n",
    "\n",
    "# Create the square symmetrix matrix\n",
    "A = np.random.randn(m, m)\n",
    "A = np.round(10*A.T@A)\n",
    "\n",
    "#reduce the rank\n",
    "A[:, 0] = A[:, 1]\n",
    "\n",
    "#shift amount\n",
    "l = .01\n",
    "\n",
    "B = A + l*np.eye(m)\n",
    "\n",
    "print('Rank wihtout shift: {}'.format(np.linalg.matrix_rank(A)))\n",
    "print('Rank with shift: {}'.format(np.linalg.matrix_rank(B)))"
   ]
  },
  {
   "cell_type": "code",
   "execution_count": 51,
   "id": "32b2b325",
   "metadata": {},
   "outputs": [
    {
     "name": "stdout",
     "output_type": "stream",
     "text": [
      "[[1]\n",
      " [2]\n",
      " [3]\n",
      " [4]]\n",
      "\n",
      "[[4 0]\n",
      " [3 4]\n",
      " [6 0]\n",
      " [2 1]]\n",
      "\n",
      "[[1 0]\n",
      " [2 0]\n",
      " [2 1]\n",
      " [2 2]]\n",
      "\n",
      "2\n",
      "2\n",
      "[[4 0 1]\n",
      " [3 4 2]\n",
      " [6 0 3]\n",
      " [2 1 4]]\n",
      "\n",
      "[[1 0 1]\n",
      " [2 0 2]\n",
      " [2 1 3]\n",
      " [2 2 4]]\n",
      "\n",
      "3\n",
      "2\n"
     ]
    }
   ],
   "source": [
    "# Determine whether vector is in span of set\n",
    "\n",
    "v = np.array([[1, 2, 3, 4]]).T\n",
    "print(v), print('')  #column vector\n",
    "\n",
    "S = np.vstack(([4, 3, 6, 2], [0, 4, 0, 1])).T\n",
    "T = np.vstack(([1, 2, 2, 2], [0, 0, 1, 2])).T\n",
    "print(S), print('')\n",
    "print(T), print('')\n",
    "print(np.linalg.matrix_rank(S))\n",
    "print(np.linalg.matrix_rank(T))\n",
    "\n",
    "Sv = np.concatenate((S, v), axis = 1)\n",
    "Tv = np.concatenate((T, v), axis = 1)\n",
    "print(Sv), print('')\n",
    "print(Tv), print('')\n",
    "\n",
    "print(np.linalg.matrix_rank(Sv))\n",
    "print(np.linalg.matrix_rank(Tv))\n",
    "\n",
    "# Since augmenting vector increases the rank of S, hence it is not in span of set S\n",
    "# v is in the set of span T as the rank remains the same"
   ]
  },
  {
   "cell_type": "code",
   "execution_count": null,
   "id": "35c6ccb8",
   "metadata": {},
   "outputs": [],
   "source": []
  }
 ],
 "metadata": {
  "kernelspec": {
   "display_name": "Python 3 (ipykernel)",
   "language": "python",
   "name": "python3"
  },
  "language_info": {
   "codemirror_mode": {
    "name": "ipython",
    "version": 3
   },
   "file_extension": ".py",
   "mimetype": "text/x-python",
   "name": "python",
   "nbconvert_exporter": "python",
   "pygments_lexer": "ipython3",
   "version": "3.9.7"
  }
 },
 "nbformat": 4,
 "nbformat_minor": 5
}
