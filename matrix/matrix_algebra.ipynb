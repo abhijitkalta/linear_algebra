{
 "cells": [
  {
   "cell_type": "code",
   "execution_count": 1,
   "id": "e89338a7",
   "metadata": {},
   "outputs": [],
   "source": [
    "import numpy as np\n",
    "import matplotlib.pyplot as plt\n",
    "from mpl_toolkits.mplot3d import Axes3D"
   ]
  },
  {
   "cell_type": "code",
   "execution_count": 17,
   "id": "4ee07a71",
   "metadata": {},
   "outputs": [
    {
     "name": "stdout",
     "output_type": "stream",
     "text": [
      "[[-0.20937    -0.50460437  2.53244876 -0.65009069  0.51938126]\n",
      " [-1.79850296 -0.05878609 -0.5030192  -0.27346855  0.093567  ]\n",
      " [-0.54472078  0.57724508  0.69422906 -0.22592682 -0.63824205]\n",
      " [-0.18719546 -1.06733648 -0.58975962  1.42170479 -0.68983959]\n",
      " [ 1.13319107 -0.0161937   1.1114084  -1.00019467  0.90142035]]\n",
      "\n",
      "[[ 0.81385678  0.6342953  -0.03457756]\n",
      " [ 0.67875462  1.61600184 -1.67618302]]\n",
      "\n",
      "[[1. 0. 0.]\n",
      " [0. 1. 0.]\n",
      " [0. 0. 1.]]\n",
      "\n",
      "[[0 0 0 0]\n",
      " [0 0 0 0]\n",
      " [0 0 0 0]\n",
      " [0 0 0 0]]\n",
      "\n",
      "[[1 0 0]\n",
      " [0 2 0]\n",
      " [0 0 3]]\n",
      "\n",
      "[[ 24.  48.  44.  29.]\n",
      " [  0. -61. -19. -39.]\n",
      " [  0.   0. -14.  -9.]]\n",
      "\n",
      "[[ 24.   0.   0.   0.]\n",
      " [ 10. -61.   0.   0.]\n",
      " [-11.   4. -14.   0.]]\n",
      "\n",
      "[[-2.03773379 -0.05823884]\n",
      " [-0.92704929  2.98701026]\n",
      " [ 1.069345   -0.21157377]]\n",
      " \n",
      "[[-0.70551224  0.36751073  0.12702762 -0.58688221]\n",
      " [ 0.05699589  0.33673992  0.60753951 -0.48553861]\n",
      " [-0.40884704 -1.08403509 -0.26236085  1.94372715]]\n",
      "\n",
      "[[-2.03773379 -0.05823884 -0.70551224  0.36751073  0.12702762 -0.58688221]\n",
      " [-0.92704929  2.98701026  0.05699589  0.33673992  0.60753951 -0.48553861]\n",
      " [ 1.069345   -0.21157377 -0.40884704 -1.08403509 -0.26236085  1.94372715]]\n"
     ]
    }
   ],
   "source": [
    "#square vs rectangular\n",
    "\n",
    "S = np.random.randn(5, 5)\n",
    "R = np.random.randn(2, 3)\n",
    "print(S)\n",
    "print('')\n",
    "print(R)\n",
    "print('')\n",
    "\n",
    "#identity\n",
    "I = np.eye(3)\n",
    "print(I)\n",
    "print('')\n",
    "\n",
    "#zero\n",
    "Z = np.zeros((4, 4), dtype = int)\n",
    "print(Z)\n",
    "print('')\n",
    "\n",
    "#diagonal\n",
    "D = np.diag([1, 2, 3])\n",
    "print(D)\n",
    "print('')\n",
    "\n",
    "#triangular\n",
    "S = np.round(30*np.random.randn(3, 4))\n",
    "U = np.triu(S)\n",
    "print(U)\n",
    "print('')\n",
    "L = np.tril(S)\n",
    "print(L)\n",
    "print('')\n",
    "\n",
    "#concatenate (sizes must match)\n",
    "A = np.random.randn(3, 2)\n",
    "B = np.random.randn(3, 4)\n",
    "print(A, end = '\\n \\n')\n",
    "print(B)\n",
    "print('')\n",
    "C = np.concatenate((A, B), axis = 1)\n",
    "print(C)"
   ]
  },
  {
   "cell_type": "code",
   "execution_count": 22,
   "id": "591300a2",
   "metadata": {},
   "outputs": [
    {
     "name": "stdout",
     "output_type": "stream",
     "text": [
      "[[-1.1528411   2.87297822 -0.98959453 -1.90856614]\n",
      " [ 0.98490976 -2.35963497  3.14085478  1.06044083]\n",
      " [ 0.43804012 -1.42668219 -1.1018666   3.45309783]\n",
      " [ 0.06881407  1.33550447  1.15438639 -1.37904394]\n",
      " [ 1.24512045  0.22323614  0.40538504 -1.20481451]]\n",
      "\n",
      "[[ 1.1240321  -1.00353645 -0.66401135 -0.67545823  0.20175685]\n",
      " [-0.99969692 -0.23317566  0.62190274  0.30998748 -0.59207555]\n",
      " [ 0.01883894  0.15552204  0.65547605  0.38524686  1.13440028]\n",
      " [-1.06798431  0.07969598 -0.80198109 -1.12190133 -1.42756904]\n",
      " [-1.41916931  0.69267865 -0.82402701 -2.61374701  0.24376509]]\n",
      "\n",
      "[[ 1.4240321  -1.00353645 -0.66401135 -0.67545823  0.20175685]\n",
      " [-0.99969692  0.06682434  0.62190274  0.30998748 -0.59207555]\n",
      " [ 0.01883894  0.15552204  0.95547605  0.38524686  1.13440028]\n",
      " [-1.06798431  0.07969598 -0.80198109 -0.82190133 -1.42756904]\n",
      " [-1.41916931  0.69267865 -0.82402701 -2.61374701  0.54376509]]\n"
     ]
    }
   ],
   "source": [
    "#matrix addition/subtraction\n",
    "A = np.random.randn(5, 4)\n",
    "B = np.random.randn(5, 4)\n",
    "C = np.random.randn(5, 4)\n",
    "\n",
    "print(A + B)\n",
    "print('')\n",
    "\n",
    "# Shifting a matrix - A + scalar * I = C\n",
    "l = 0.3\n",
    "N = 5\n",
    "D = np.random.randn(N, N)  # Has to be a square matrix\n",
    "Ds = D + l*np.eye(N)\n",
    "print(D)\n",
    "print('')\n",
    "print(Ds)"
   ]
  },
  {
   "cell_type": "code",
   "execution_count": 23,
   "id": "a57395e2",
   "metadata": {},
   "outputs": [
    {
     "name": "stdout",
     "output_type": "stream",
     "text": [
      "[[10 20]\n",
      " [30 40]]\n",
      "\n",
      "[[10 20]\n",
      " [30 40]]\n",
      "\n",
      "[[ 60  80]\n",
      " [100 120]]\n",
      "\n",
      "[[ 60  80]\n",
      " [100 120]]\n"
     ]
    }
   ],
   "source": [
    "# Matrix-scalar multiplication\n",
    "\n",
    "# Commutative property\n",
    "A = np.array([[1, 2], [3, 4]])\n",
    "B = np.array([[5, 6], [7, 8]])\n",
    "S = 10\n",
    "print(S*A)\n",
    "print('')\n",
    "print(A*S)\n",
    "print('')\n",
    "\n",
    "# Distributive property\n",
    "print(S*(A + B))\n",
    "print('')\n",
    "print(S*A + S*B)\n"
   ]
  },
  {
   "cell_type": "code",
   "execution_count": 26,
   "id": "2a2af792",
   "metadata": {},
   "outputs": [
    {
     "name": "stdout",
     "output_type": "stream",
     "text": [
      "[[1 2]\n",
      " [3 4]]\n",
      "\n",
      "[[1 3]\n",
      " [2 4]]\n",
      "[[1 3]\n",
      " [2 4]]\n"
     ]
    }
   ],
   "source": [
    "# Transpose \n",
    "print(A)\n",
    "print('')\n",
    "print(A.T)\n",
    "\n",
    "# Hermitian transpose\n",
    "print(np.matrix(A).H)"
   ]
  },
  {
   "cell_type": "code",
   "execution_count": 28,
   "id": "4ba40ce5",
   "metadata": {},
   "outputs": [
    {
     "name": "stdout",
     "output_type": "stream",
     "text": [
      "[[ 1.+0.j -1.+5.j  0.+0.j]\n",
      " [-1.+0.j -2.+0.j -4.+0.j]\n",
      " [ 0.+6.j -4.+0.j  5.-2.j]]\n",
      "\n",
      "[[ 1.-0.j -1.-0.j  0.-6.j]\n",
      " [-1.-5.j -2.-0.j -4.-0.j]\n",
      " [ 0.-0.j -4.-0.j  5.+2.j]]\n"
     ]
    }
   ],
   "source": [
    "C = np.array([[1, -1 + 5j, 0], [-1, -2, -4], [6j, -4, 5 - 2j]])\n",
    "print(C)\n",
    "print('')\n",
    "print(np.matrix(C).H)  # Hermitian transpose"
   ]
  },
  {
   "cell_type": "code",
   "execution_count": 31,
   "id": "bfb3cea7",
   "metadata": {},
   "outputs": [
    {
     "name": "stdout",
     "output_type": "stream",
     "text": [
      "[[ -8.  15.  -8.   1.]\n",
      " [  3.  10. -11.  -1.]\n",
      " [  4.   8.   2.   8.]\n",
      " [ -3.  -1.  10.  -2.]]\n",
      "\n",
      "[-8. 10.  2. -2.]\n",
      "\n",
      "[[-8.  0.  0.  0.]\n",
      " [ 0. 10.  0.  0.]\n",
      " [ 0.  0.  2.  0.]\n",
      " [ 0.  0.  0. -2.]]\n",
      "\n",
      "2.0 2.0\n"
     ]
    }
   ],
   "source": [
    "# Trace of a matrix\n",
    "\n",
    "M = np.round(6*np.random.randn(4, 4))\n",
    "print(M)\n",
    "print('')\n",
    "\n",
    "d = np.diag(M)  # Input is matrix, output is vector\n",
    "print(d)\n",
    "print('')\n",
    "D = np.diag(d)  # Input is vector, output is matrix\n",
    "print(D)\n",
    "print('')\n",
    "\n",
    "# Trace as sum of diagonals\n",
    "tr = np.trace(M)\n",
    "tr2 = sum(d)\n",
    "print(tr, tr2)"
   ]
  },
  {
   "cell_type": "code",
   "execution_count": 32,
   "id": "ef03b9b9",
   "metadata": {},
   "outputs": [
    {
     "name": "stdout",
     "output_type": "stream",
     "text": [
      "-1.0 -23.0 -24.0\n",
      "\n",
      "-13.0 -13.0\n"
     ]
    }
   ],
   "source": [
    "# Code challenge - linearity of trace\n",
    "# tr(A + B) = tr(A) + tr(B)\n",
    "# l*tr(A) = tr(l*A)\n",
    "\n",
    "A = np.round(6*np.random.randn(3, 3))\n",
    "B = np.round(6*np.random.randn(3, 3))\n",
    "l = 13\n",
    "\n",
    "trA = np.trace(A)\n",
    "trB = np.trace(B)\n",
    "trAB = np.trace(A + B)\n",
    "print(trA, trB, trAB)\n",
    "print('')\n",
    "\n",
    "trAl = np.trace(l*A)\n",
    "print(trAl, l*trA)\n"
   ]
  },
  {
   "cell_type": "code",
   "execution_count": 39,
   "id": "8b9a6c25",
   "metadata": {},
   "outputs": [
    {
     "name": "stdout",
     "output_type": "stream",
     "text": [
      "[[ 1  4  7 10]\n",
      " [ 2  5  8 11]\n",
      " [ 3  6  9 12]]\n",
      "\n",
      "[10, 20, 30, 40]\n",
      "\n",
      "[100, 200, 300]\n",
      "\n",
      "[[11 24 37 50]\n",
      " [12 25 38 51]\n",
      " [13 26 39 52]]\n",
      "\n",
      "[[100]\n",
      " [200]\n",
      " [300]]\n",
      "\n",
      "[[101 104 107 110]\n",
      " [202 205 208 211]\n",
      " [303 306 309 312]]\n"
     ]
    }
   ],
   "source": [
    "# Broadcasting matrix arithmetic\n",
    "\n",
    "A = np.reshape(np.arange(1, 13), (3, 4), \"F\")  #F=column, C=row\n",
    "\n",
    "r = [10, 20, 30, 40]\n",
    "c = [100, 200, 300]\n",
    "\n",
    "print(A)\n",
    "print('')\n",
    "print(r)\n",
    "print('')\n",
    "print(c)\n",
    "print('')\n",
    "\n",
    "# Broadcast on rows\n",
    "print(A + r)\n",
    "print('')\n",
    "\n",
    "# Broadcast on columns\n",
    "# First transform in column vector\n",
    "c = np.reshape(c, (len(c), 1))\n",
    "print(c)\n",
    "print('')\n",
    "print(A + c)"
   ]
  },
  {
   "cell_type": "code",
   "execution_count": 41,
   "id": "ae32d689",
   "metadata": {},
   "outputs": [
    {
     "name": "stdout",
     "output_type": "stream",
     "text": [
      "[[-0.65285358 -0.50181451 -3.13622281 -1.45171472 -1.56683608  0.20494987\n",
      "  -2.98110477]\n",
      " [-1.30953945  1.82962916 -2.88547548 -2.13857654  0.69381502  0.50757591\n",
      "   1.34516295]\n",
      " [ 0.4129454  -3.55558134 -0.12898054 -1.19403292 -2.3318352  -0.67104926\n",
      "  -9.7741122 ]]\n",
      "\n",
      "[[ 0.25731171  3.46902128 -3.48183901]\n",
      " [ 1.8635468   1.7437372  -3.24462074]\n",
      " [ 0.72465919  1.49023638  1.87362068]\n",
      " [-2.81430354 -3.11163087  2.71212425]\n",
      " [-1.1413793   1.4076954   2.46497627]]\n",
      "\n",
      "[[ 0.56213019 -5.88605934  3.10671177  3.51454922 -0.87131333]\n",
      " [ 2.80587218  0.72274951  0.98102928  1.7440517   0.23864796]\n",
      " [ 4.2795533  -6.0055897   4.9380242   6.41971004 -0.7070388 ]\n",
      " [ 3.40529263 -2.0430194   1.97926777  2.11604296 -0.79770703]\n",
      " [ 0.31117583 -2.31859783  1.36873553  1.70544339 -0.23308066]\n",
      " [-5.27709738 -4.39013928  0.77482318  1.17041796  0.28733728]\n",
      " [-0.05348681 -0.73783479 -0.26238116 -1.11873885 -0.72884033]]\n",
      "\n"
     ]
    },
    {
     "ename": "ValueError",
     "evalue": "matmul: Input operand 1 has a mismatch in its core dimension 0, with gufunc signature (n?,k),(k,m?)->(n?,m?) (size 7 is different from 5)",
     "output_type": "error",
     "traceback": [
      "\u001b[0;31m---------------------------------------------------------------------------\u001b[0m",
      "\u001b[0;31mValueError\u001b[0m                                Traceback (most recent call last)",
      "\u001b[0;32m/var/folders/nn/4_714bpd2qz7gm9d27_r3qw40000gn/T/ipykernel_38223/370474337.py\u001b[0m in \u001b[0;36m<module>\u001b[0;34m\u001b[0m\n\u001b[1;32m     20\u001b[0m \u001b[0mprint\u001b[0m\u001b[0;34m(\u001b[0m\u001b[0;34m''\u001b[0m\u001b[0;34m)\u001b[0m\u001b[0;34m\u001b[0m\u001b[0;34m\u001b[0m\u001b[0m\n\u001b[1;32m     21\u001b[0m \u001b[0;34m\u001b[0m\u001b[0m\n\u001b[0;32m---> 22\u001b[0;31m \u001b[0mres4\u001b[0m \u001b[0;34m=\u001b[0m \u001b[0mnp\u001b[0m\u001b[0;34m.\u001b[0m\u001b[0mmatmul\u001b[0m\u001b[0;34m(\u001b[0m\u001b[0mA\u001b[0m\u001b[0;34m,\u001b[0m \u001b[0mC\u001b[0m\u001b[0;34m)\u001b[0m\u001b[0;34m\u001b[0m\u001b[0;34m\u001b[0m\u001b[0m\n\u001b[0m\u001b[1;32m     23\u001b[0m \u001b[0mprint\u001b[0m\u001b[0;34m(\u001b[0m\u001b[0mres4\u001b[0m\u001b[0;34m)\u001b[0m  \u001b[0;31m# Will result in error as inner dimensions dont match\u001b[0m\u001b[0;34m\u001b[0m\u001b[0;34m\u001b[0m\u001b[0m\n",
      "\u001b[0;31mValueError\u001b[0m: matmul: Input operand 1 has a mismatch in its core dimension 0, with gufunc signature (n?,k),(k,m?)->(n?,m?) (size 7 is different from 5)"
     ]
    }
   ],
   "source": [
    "# Standard matrix multiplication - m*n * n*k = m*k  (n needs to match)\n",
    "\n",
    "m = 3\n",
    "n = 5\n",
    "k = 7\n",
    "A = np.random.randn(m, n)\n",
    "B = np.random.randn(n, k)\n",
    "C = np.random.randn(k, m)\n",
    "\n",
    "res1 = np.matmul(A, B)\n",
    "print(res1)\n",
    "print('')\n",
    "\n",
    "res2 = np.matmul(B, C)\n",
    "print(res2)\n",
    "print('')\n",
    "\n",
    "res3 = np.matmul(C, A)\n",
    "print(res3)\n",
    "print('')\n",
    "\n",
    "res4 = np.matmul(A, C)\n",
    "print(res4)  # Will result in error as inner dimensions dont match"
   ]
  },
  {
   "cell_type": "code",
   "execution_count": 64,
   "id": "67d9a35f",
   "metadata": {},
   "outputs": [
    {
     "name": "stdout",
     "output_type": "stream",
     "text": [
      "(3, 7)\n",
      "\n",
      "[[-0.65285358 -0.50181451 -3.13622281 -1.45171472 -1.56683608  0.20494987\n",
      "  -2.98110477]\n",
      " [-1.30953945  1.82962916 -2.88547548 -2.13857654  0.69381502  0.50757591\n",
      "   1.34516295]\n",
      " [ 0.4129454  -3.55558134 -0.12898054 -1.19403292 -2.3318352  -0.67104926\n",
      "  -9.7741122 ]]\n",
      "[[-0.65285358 -0.50181451 -3.13622281 -1.45171472 -1.56683608  0.20494987\n",
      "  -2.98110477]\n",
      " [-1.30953945  1.82962916 -2.88547548 -2.13857654  0.69381502  0.50757591\n",
      "   1.34516295]\n",
      " [ 0.4129454  -3.55558134 -0.12898054 -1.19403292 -2.3318352  -0.67104926\n",
      "  -9.7741122 ]]\n"
     ]
    }
   ],
   "source": [
    "# Implement multiplication by layer perspective\n",
    "\n",
    "res = np.matmul(A, B)\n",
    "print(res.shape)\n",
    "print('')\n",
    "R = np.zeros((m, k))\n",
    "\n",
    "for i in range(n):\n",
    "    R += np.outer(A[:, i], B[i, :])\n",
    "\n",
    "print(R)\n",
    "\n",
    "R1 = A@B\n",
    "print(R1)"
   ]
  },
  {
   "cell_type": "code",
   "execution_count": 68,
   "id": "c1d4cd0d",
   "metadata": {},
   "outputs": [
    {
     "name": "stdout",
     "output_type": "stream",
     "text": [
      "[[ 54.03098431  -3.813752    18.76660569   6.79449995 -10.35660649\n",
      "    6.32215595  11.10312823]\n",
      " [ -2.54139965   1.639172   -11.6011701   22.27833932   1.86311386\n",
      "    8.27861271  12.35480431]\n",
      " [ -4.53724039   6.29658806 -11.87316524   9.76531818  -4.33438651\n",
      "    7.62855131   9.36667854]\n",
      " [-96.57321922 -24.88927718 -15.27801085 -50.35468236  10.81173011\n",
      "  -31.84462334  -7.79214566]\n",
      " [-48.63586712  -4.91281149 -12.04092584 -21.0153639    3.29093731\n",
      "  -10.84847416  -3.03724821]\n",
      " [  7.76451169  10.96727028   2.31346993  -9.10882136  -8.06401842\n",
      "    5.88490053   1.78424682]\n",
      " [  3.61247402  -1.59343461   6.22304358  -4.29725747   2.39693716\n",
      "   -3.51101511  -7.20740688]]\n",
      "\n",
      "[[ 54.03098431  -3.813752    18.76660569   6.79449995 -10.35660649\n",
      "    6.32215595  11.10312823]\n",
      " [ -2.54139965   1.639172   -11.6011701   22.27833932   1.86311386\n",
      "    8.27861271  12.35480431]\n",
      " [ -4.53724039   6.29658806 -11.87316524   9.76531818  -4.33438651\n",
      "    7.62855131   9.36667854]\n",
      " [-96.57321922 -24.88927718 -15.27801085 -50.35468236  10.81173011\n",
      "  -31.84462334  -7.79214566]\n",
      " [-48.63586712  -4.91281149 -12.04092584 -21.0153639    3.29093731\n",
      "  -10.84847416  -3.03724821]\n",
      " [  7.76451169  10.96727028   2.31346993  -9.10882136  -8.06401842\n",
      "    5.88490053   1.78424682]\n",
      " [  3.61247402  -1.59343461   6.22304358  -4.29725747   2.39693716\n",
      "   -3.51101511  -7.20740688]]\n"
     ]
    }
   ],
   "source": [
    "# (LIVE)T = E.t * v.t * i.t * l.t\n",
    "n = 7\n",
    "L = np.random.randn(n, n)\n",
    "I = np.random.randn(n, n)\n",
    "V = np.random.randn(n, n)\n",
    "E = np.random.randn(n, n)\n",
    "\n",
    "res1 = np.matrix.transpose(L @ I @ V @ E)\n",
    "print(res1)\n",
    "print('')\n",
    "\n",
    "res2 = E.T @ V.T @ I.T @ L.T\n",
    "print(res2)"
   ]
  },
  {
   "cell_type": "code",
   "execution_count": 75,
   "id": "2e37e1b4",
   "metadata": {},
   "outputs": [
    {
     "name": "stdout",
     "output_type": "stream",
     "text": [
      "[[ -4  -4  -8  -8]\n",
      " [  8   8   8  -1]\n",
      " [  4  -2  -4 -10]\n",
      " [  1   5   5   3]]\n",
      "\n",
      "[[ 1. -2. -2. -0.]\n",
      " [-2.  4. -1. -0.]\n",
      " [-2. -1.  1. -3.]\n",
      " [-0. -0. -3.  1.]]\n",
      "\n",
      "[[ 20.   0.  28.  16.]\n",
      " [-24.   8. -13. -25.]\n",
      " [ 16. -12.  20.   2.]\n",
      " [-19.  13. -11. -12.]]\n",
      "\n",
      "[[-28. -16. -16.  14.]\n",
      " [ 36.  42.  52.  22.]\n",
      " [  1. -17. -11.  -2.]\n",
      " [-11.  11.  17.  33.]]\n",
      "\n",
      "[-4  8  4  1]\n",
      "\n",
      "[-28.  36.   1. -11.]\n",
      "\n",
      "[-28.  36.   1. -11.]\n",
      "\n",
      "[-28.  36.   1. -11.]\n",
      "[-28.  36.   1. -11.]\n"
     ]
    }
   ],
   "source": [
    "# Matrix symmetric and vector multiplication\n",
    "\n",
    "m = 4\n",
    "\n",
    "N = np.random.randint(-10, 11, (m, m))\n",
    "S = np.round(N.T*N / m**2)  # Scaled matrix\n",
    "print(N)\n",
    "print(\"\")\n",
    "print(S)\n",
    "print('')\n",
    "\n",
    "print(N@S)\n",
    "print('')\n",
    "print(S@N)\n",
    "print('')\n",
    "\n",
    "v = N[:, 0]\n",
    "print(v)\n",
    "print('')\n",
    "\n",
    "print(v@S)\n",
    "print('')\n",
    "\n",
    "print(S@v)\n",
    "print('')\n",
    "\n",
    "print(np.dot(v, S))\n",
    "print(np.dot(S, v))"
   ]
  },
  {
   "cell_type": "code",
   "execution_count": 83,
   "id": "4e7bc954",
   "metadata": {},
   "outputs": [
    {
     "data": {
      "image/png": "[encoded data removed]",
      "text/plain": [
       "<Figure size 432x288 with 1 Axes>"
      ]
     },
     "metadata": {
      "needs_background": "light"
     },
     "output_type": "display_data"
    }
   ],
   "source": [
    "# 2D transformation matrix\n",
    "\n",
    "v = np.array([3, -2])\n",
    "\n",
    "A = np.array([[1, -1], [2, 1]])\n",
    "w = A@np.matrix.transpose(v)\n",
    "\n",
    "plt.plot([0, v[0]], [0, v[1]], label = 'v')\n",
    "plt.plot([0, w[0]], [0, w[1]], label = 'Av')\n",
    "\n",
    "plt.plot([0, 0], [-4, 4], 'k--')\n",
    "plt.plot([-4, 4], [0, 0], 'k--')\n",
    "plt.grid()\n",
    "plt.axis((-6, 6, -6, 6))\n",
    "plt.legend()\n",
    "plt.title('Rotation + stretching')\n",
    "plt.show()"
   ]
  },
  {
   "cell_type": "code",
   "execution_count": 90,
   "id": "1501ab83",
   "metadata": {},
   "outputs": [
    {
     "data": {
      "image/png": "[encoded data removed]",
      "text/plain": [
       "<Figure size 432x288 with 1 Axes>"
      ]
     },
     "metadata": {
      "needs_background": "light"
     },
     "output_type": "display_data"
    }
   ],
   "source": [
    "# Pure rotation\n",
    "\n",
    "v = np.array([3, -2])\n",
    "\n",
    "th = np.pi/30\n",
    "A = np.array([[np.cos(th), -np.sin(th)], [np.sin(th), np.cos(th)]])\n",
    "\n",
    "w = A@np.matrix.transpose(v)\n",
    "\n",
    "plt.plot([0, v[0]], [0, v[1]], label = 'v')\n",
    "plt.plot([0, w[0]], [0, w[1]], label = 'Av')\n",
    "\n",
    "plt.plot([0, 0], [-4, 4], 'k--')\n",
    "plt.plot([-4, 4], [0, 0], 'k--')\n",
    "plt.grid()\n",
    "plt.axis('square')\n",
    "plt.axis((-6, 6, -6, 6))\n",
    "plt.legend()\n",
    "plt.title('Pure rotaition only')\n",
    "plt.show()\n"
   ]
  },
  {
   "cell_type": "code",
   "execution_count": 95,
   "id": "de57921e",
   "metadata": {},
   "outputs": [
    {
     "data": {
      "image/png": "[encoded data removed]",
      "text/plain": [
       "<Figure size 432x288 with 1 Axes>"
      ]
     },
     "metadata": {
      "needs_background": "light"
     },
     "output_type": "display_data"
    }
   ],
   "source": [
    "# Code challenge\n",
    "\n",
    "thetas = np.linspace(0, 2*np.pi, 100)\n",
    "vecmags = np.zeros((len(thetas), 2))\n",
    "for i in range(len(thetas)):\n",
    "    th = thetas[i]\n",
    "    A1 = np.array([[np.cos(th), -np.sin(th)], [np.sin(th), np.cos(th)]])\n",
    "    A2 = np.array([[2 * np.cos(th), -np.sin(th)], [np.sin(th), np.cos(th)]])\n",
    "    \n",
    "    vecmags[i, 0] = np.linalg.norm(A1@v.T)\n",
    "    vecmags[i, 1] = np.linalg.norm(A2@v.T)\n",
    "\n",
    "plt.plot(thetas, vecmags, 'o-')\n",
    "plt.xlabel('Rotation angle (radians)')\n",
    "plt.ylabel('Av magnitude')\n",
    "plt.legend(['pure rotation', 'impure rotation'])\n",
    "plt.show()"
   ]
  },
  {
   "cell_type": "code",
   "execution_count": 106,
   "id": "4ab5fd18",
   "metadata": {},
   "outputs": [
    {
     "name": "stdout",
     "output_type": "stream",
     "text": [
      "True\n",
      "True\n",
      "True\n",
      "True\n",
      "True\n"
     ]
    }
   ],
   "source": [
    "# Additive and multicative matrix identity\n",
    "n = 4\n",
    "\n",
    "A = np.round(10*np.random.randn(n, n))\n",
    "I = np.eye(n)\n",
    "Z = np.zeros((n, n))\n",
    "\n",
    "# Test both identities\n",
    "# Multicative matrix identity - identity matrix\n",
    "print(np.array_equal(A@I, A))\n",
    "print(np.array_equal(I@A, A))\n",
    "print(np.array_equal(A@I, I@A))\n",
    "\n",
    "# Additive matrix identity - zeros matrix\n",
    "print(np.array_equal(A + Z, Z + A))\n",
    "print(np.array_equal(A + Z, A))"
   ]
  },
  {
   "cell_type": "code",
   "execution_count": 110,
   "id": "452404ba",
   "metadata": {},
   "outputs": [
    {
     "name": "stdout",
     "output_type": "stream",
     "text": [
      "[[-5.  0.  0.  0. -1.]\n",
      " [ 0. -0.  4.  1. -0.]\n",
      " [ 0.  4.  1.  0.  0.]\n",
      " [ 0.  1.  0. -1. -0.]\n",
      " [-1. -0.  0. -0. -3.]]\n",
      "\n",
      "[[-5.  0.  0.  0. -1.]\n",
      " [ 0. -0.  4.  1. -0.]\n",
      " [ 0.  4.  1.  0.  0.]\n",
      " [ 0.  1.  0. -1. -0.]\n",
      " [-1. -0.  0. -0. -3.]]\n",
      "\n",
      "[[-0.11565062 -0.88037947 -0.49420777 -1.00283353]\n",
      " [-0.28095554  0.23738759  0.47313622 -0.07409828]\n",
      " [ 2.23585317 -0.9688741  -0.91518228  0.8148633 ]\n",
      " [ 0.07241601 -1.46680273  0.30081114 -1.03353068]\n",
      " [-0.43933517 -0.92108567 -0.17464822  1.30934225]]\n",
      "\n",
      "[[ 5. -2. -2.  1.]\n",
      " [-2.  5.  1.  0.]\n",
      " [-2.  1.  1. -1.]\n",
      " [ 1.  0. -1.  4.]]\n"
     ]
    }
   ],
   "source": [
    "# Make a symmetric matrix\n",
    "\n",
    "n = 5\n",
    "m = 4\n",
    "\n",
    "# Additive method, only works with square matrix\n",
    "A = np.random.randn(n, n)\n",
    "S = np.round(A + A.T)\n",
    "print(S)\n",
    "print('')\n",
    "print(S.T)\n",
    "print('')\n",
    "\n",
    "# Multicative method, works with any matrix \n",
    "A = np.random.randn(n, m)\n",
    "S = np.round(A.T @ A)\n",
    "print(A)\n",
    "print('')\n",
    "print(S)"
   ]
  },
  {
   "cell_type": "code",
   "execution_count": 111,
   "id": "646d0a8b",
   "metadata": {},
   "outputs": [
    {
     "name": "stdout",
     "output_type": "stream",
     "text": [
      "[[-1.01917901 -0.97377158]\n",
      " [-0.89758554  0.01248054]\n",
      " [-0.11554748 -0.28265314]\n",
      " [-0.53308031 -0.36208883]\n",
      " [-0.43712539  0.3308891 ]\n",
      " [-0.49420259  0.19095596]\n",
      " [ 0.68147731  0.64933515]\n",
      " [ 0.46546739  0.41290103]\n",
      " [ 0.48808714  3.39839985]\n",
      " [ 0.53433162 -1.69098786]\n",
      " [ 0.34971788 -0.14415023]\n",
      " [ 0.5683911  -0.70242083]\n",
      " [-3.84561925 -0.89021921]]\n",
      "\n",
      "[[-1.01917901 -0.97377158]\n",
      " [-0.89758554  0.01248054]\n",
      " [-0.11554748 -0.28265314]\n",
      " [-0.53308031 -0.36208883]\n",
      " [-0.43712539  0.3308891 ]\n",
      " [-0.49420259  0.19095596]\n",
      " [ 0.68147731  0.64933515]\n",
      " [ 0.46546739  0.41290103]\n",
      " [ 0.48808714  3.39839985]\n",
      " [ 0.53433162 -1.69098786]\n",
      " [ 0.34971788 -0.14415023]\n",
      " [ 0.5683911  -0.70242083]\n",
      " [-3.84561925 -0.89021921]]\n"
     ]
    }
   ],
   "source": [
    "# Hadamard multiplication\n",
    "\n",
    "m = 13\n",
    "n = 2\n",
    "\n",
    "A = np.random.randn(m, n)\n",
    "B = np.random.randn(m, n)\n",
    "\n",
    "C1 = np.multiply(A, B)\n",
    "C2 = A*B\n",
    "\n",
    "print(C1)\n",
    "print('')\n",
    "print(C2)"
   ]
  },
  {
   "cell_type": "code",
   "execution_count": 114,
   "id": "cb4e4921",
   "metadata": {},
   "outputs": [
    {
     "name": "stdout",
     "output_type": "stream",
     "text": [
      "[[ 7. -1.  0.  0. -2.]\n",
      " [-1. 12.  2.  2. -1.]\n",
      " [ 0.  2.  8.  1.  2.]\n",
      " [ 0.  2.  1.  3.  0.]\n",
      " [-2. -1.  2.  0. 11.]]\n",
      "\n",
      "[[  7.  -1.   1.  -3.  -3.]\n",
      " [ -5.  29.   7.   4.  -7.]\n",
      " [  2.   7.  12.   4.   2.]\n",
      " [ -1.   8.   3.   1.  -3.]\n",
      " [ -6. -11.  10.   7.  14.]]\n",
      "\n",
      "[[10.  0. -0. -0. -3.]\n",
      " [ 0. 32. -3.  0. -0.]\n",
      " [-0. -3. 15. -0.  0.]\n",
      " [-0.  0. -0.  2. -1.]\n",
      " [-3. -0.  0. -1. 18.]]\n",
      "\n",
      "[[0. 0. 0. 0. 0.]\n",
      " [0. 0. 0. 0. 0.]\n",
      " [0. 0. 0. 0. 0.]\n",
      " [0. 0. 0. 0. 0.]\n",
      " [0. 0. 0. 0. 0.]]\n",
      "\n",
      "[[  0.   4.  -1.  -2.   3.]\n",
      " [ -4.   0.   0.  -4.   4.]\n",
      " [  1.   0.   0.   1.  -8.]\n",
      " [  2.   4.  -1.   0. -10.]\n",
      " [ -3.  -4.   8.  10.   0.]]\n",
      "\n",
      "[[0. 0. 0. 0. 0.]\n",
      " [0. 0. 0. 0. 0.]\n",
      " [0. 0. 0. 0. 0.]\n",
      " [0. 0. 0. 0. 0.]\n",
      " [0. 0. 0. 0. 0.]]\n"
     ]
    }
   ],
   "source": [
    "# Code challenge\n",
    "\n",
    "n = 5\n",
    "\n",
    "A = np.random.randn(n, n)\n",
    "B = np.random.randn(n, n)\n",
    "\n",
    "S1 = np.round(A.T@A)\n",
    "S2 = np.round(B.T@B)\n",
    "\n",
    "s = S1 + S2  # Sum\n",
    "mul = S1@S2  # Multiplication\n",
    "had = np.multiply(S1, S2)  #Hadamard\n",
    "\n",
    "print(s)\n",
    "print('')\n",
    "print(mul)\n",
    "print('')\n",
    "print(had), print('')\n",
    "\n",
    "print(s - s.T)\n",
    "print('')\n",
    "print(mul - mul.T)\n",
    "print('')\n",
    "print(had - had.T)"
   ]
  },
  {
   "cell_type": "code",
   "execution_count": 130,
   "id": "48779c2b",
   "metadata": {},
   "outputs": [
    {
     "name": "stdout",
     "output_type": "stream",
     "text": [
      "Matrix([[0, 0, 0, 0], [0, 0, 0, 0], [0, 0, 0, 0], [0, 0, 0, 0]])\n",
      "Matrix([[0, 0, 0, 0], [0, 0, 0, 0], [0, 0, 0, 0], [0, 0, 0, 0]])\n"
     ]
    },
    {
     "data": {
      "text/latex": [
       "$\\displaystyle \\left[\\begin{matrix}0 & c q + d r - e n - f o & b q + d t - e m - h o & b r + c t - f m - h n\\\\- c q - d r + e n + f o & 0 & b n - c m + f t - h r & b o - d m + e t - h q\\\\- b q - d t + e m + h o & - b n + c m - f t + h r & 0 & c o - d n + e r - f q\\\\- b r - c t + f m + h n & - b o + d m - e t + h q & - c o + d n - e r + f q & 0\\end{matrix}\\right]$"
      ],
      "text/plain": [
       "⎡          0             c⋅q + d⋅r - e⋅n - f⋅o   b⋅q + d⋅t - e⋅m - h⋅o   b⋅r +\n",
       "⎢                                                                             \n",
       "⎢-c⋅q - d⋅r + e⋅n + f⋅o            0             b⋅n - c⋅m + f⋅t - h⋅r   b⋅o -\n",
       "⎢                                                                             \n",
       "⎢-b⋅q - d⋅t + e⋅m + h⋅o  -b⋅n + c⋅m - f⋅t + h⋅r            0             c⋅o -\n",
       "⎢                                                                             \n",
       "⎣-b⋅r - c⋅t + f⋅m + h⋅n  -b⋅o + d⋅m - e⋅t + h⋅q  -c⋅o + d⋅n - e⋅r + f⋅q       \n",
       "\n",
       " c⋅t - f⋅m - h⋅n⎤\n",
       "                ⎥\n",
       " d⋅m + e⋅t - h⋅q⎥\n",
       "                ⎥\n",
       " d⋅n + e⋅r - f⋅q⎥\n",
       "                ⎥\n",
       "     0          ⎦"
      ]
     },
     "execution_count": 130,
     "metadata": {},
     "output_type": "execute_result"
    }
   ],
   "source": [
    "import sympy as sp\n",
    "\n",
    "a, b, c, d, e, f, g, h, k, l, m, n, o, p, q, r, s, t, u = sp.symbols('a, b, c, d, e, f, g, h, k, l, m, n, o, p, q, r, s, t, u')\n",
    "\n",
    "# Symmetric and constant diagonal matrix\n",
    "\n",
    "A = sp.Matrix([[a, b, c, d],\n",
    "               [b, a, e, f],\n",
    "               [c, e, a, h],\n",
    "               [d, f, h, a], ])\n",
    "\n",
    "B = sp.Matrix([[l, m, n, o],\n",
    "               [m, l, q, r],\n",
    "               [n, q, l, t],\n",
    "               [o, r, t, l], ])\n",
    "\n",
    "sp.init_printing()\n",
    "print(A - A.T)\n",
    "print(B - B.T)\n",
    "\n",
    "A@B - np.transpose(A@B)  # Product of two symmetric matrix is not symmetric"
   ]
  },
  {
   "cell_type": "code",
   "execution_count": 159,
   "id": "4c4f7707",
   "metadata": {},
   "outputs": [
    {
     "name": "stdout",
     "output_type": "stream",
     "text": [
      "[[-19. -20.  -3.  42.]\n",
      " [  2. -25.  39. -35.]\n",
      " [  4. -12.  31. -38.]\n",
      " [ 13.  29. -19.  20.]]\n",
      "\n",
      "[[ 19.   0.   0.   0.]\n",
      " [  0.  26.   0.   0.]\n",
      " [  0.   0. -25.   0.]\n",
      " [  0.   0.   0. -21.]]\n",
      "\n",
      "[[  855.  2134. -1614.   856.]\n",
      " [ -387.  -898.   893. -1223.]\n",
      " [ -470. -1254.  1203. -1350.]\n",
      " [   -5.  -177.   123.   653.]]\n",
      "\n",
      "[[ 361.  400.    9. 1764.]\n",
      " [   4.  625. 1521. 1225.]\n",
      " [  16.  144.  961. 1444.]\n",
      " [ 169.  841.  361.  400.]]\n",
      "\n",
      "[[361.   0.   0.   0.]\n",
      " [  0. 676.   0.   0.]\n",
      " [  0.   0. 625.   0.]\n",
      " [  0.   0.   0. 441.]]\n",
      "\n",
      "[[361.   0.   0.   0.]\n",
      " [  0. 676.   0.   0.]\n",
      " [  0.   0. 625.   0.]\n",
      " [  0.   0.   0. 441.]]\n",
      "\n"
     ]
    },
    {
     "data": {
      "text/plain": [
       "(None, None)"
      ]
     },
     "execution_count": 159,
     "metadata": {},
     "output_type": "execute_result"
    }
   ],
   "source": [
    "A = np.round(20*np.random.randn(4, 4))\n",
    "B = np.round(20*np.random.randn(4, 4))\n",
    "d = np.diag(B)\n",
    "D = np.diag(d)\n",
    "\n",
    "print(A), print('')\n",
    "print(D), print('')\n",
    "print(A@A), print('')\n",
    "print(A*A), print('')\n",
    "print(D@D), print('')\n",
    "print(D*D), print('')"
   ]
  },
  {
   "cell_type": "code",
   "execution_count": 165,
   "id": "8987ac3c",
   "metadata": {},
   "outputs": [
    {
     "data": {
      "image/png": "[encoded data removed]",
      "text/plain": [
       "<Figure size 432x288 with 1 Axes>"
      ]
     },
     "metadata": {
      "needs_background": "light"
     },
     "output_type": "display_data"
    },
    {
     "data": {
      "image/png": "[encoded data removed]",
      "text/plain": [
       "<Figure size 432x288 with 1 Axes>"
      ]
     },
     "metadata": {
      "needs_background": "light"
     },
     "output_type": "display_data"
    }
   ],
   "source": [
    "# Fourier transform\n",
    "\n",
    "n = 52\n",
    "omega = np.e**(-2*np.pi*1j/n)\n",
    "\n",
    "F = np.zeros((n, n), dtype = complex)\n",
    "\n",
    "for j in range(n):\n",
    "    for k in range(n):\n",
    "        m = j*k\n",
    "        F[j, k] = omega**m\n",
    "\n",
    "        \n",
    "plt.imshow(F.real, cmap = 'jet')\n",
    "plt.show()\n",
    "\n",
    "\n",
    "x = np.random.randn(n)\n",
    "X1 = F@x\n",
    "plt.plot(abs(X1))\n",
    "plt.show()"
   ]
  },
  {
   "cell_type": "code",
   "execution_count": 173,
   "id": "cb4679a6",
   "metadata": {},
   "outputs": [
    {
     "name": "stdout",
     "output_type": "stream",
     "text": [
      "-121.0 -121.0 -121.0\n",
      "73.90534486760751 73.90534486760751\n"
     ]
    }
   ],
   "source": [
    "# Frobenius dot product - norm\n",
    "m = 3\n",
    "n = 5\n",
    "A = np.round(20*np.random.randn(3, 5))\n",
    "B = np.round(20*np.random.randn(3, 5))\n",
    "\n",
    "# First vectorise column wise, then vector-dot product\n",
    "Av = np.reshape(A, m*n, order='F')\n",
    "Bv = np.reshape(B, m*n, order='F')\n",
    "\n",
    "frob_dp = np.dot(Av, Bv)\n",
    "\n",
    "# Trace method\n",
    "\n",
    "frob_dp2 = np.trace(A.T@B)\n",
    "\n",
    "# Element wise multiplication and them sum all elements\n",
    "\n",
    "frob_dp3 = np.sum(A*B)\n",
    "print(frob_dp, frob_dp2, frob_dp3)\n",
    "\n",
    "# Matrix form\n",
    "Anorm = np.linalg.norm(A, 'fro')\n",
    "Anorm2 = np.sqrt(np.trace(A.T@A))\n",
    "print(Anorm, Anorm2)"
   ]
  },
  {
   "cell_type": "code",
   "execution_count": 189,
   "id": "a679f4c8",
   "metadata": {},
   "outputs": [
    {
     "name": "stdout",
     "output_type": "stream",
     "text": [
      "[[-0.43652593 -0.19083339 -0.23713128  0.81347845 -0.23462586]\n",
      " [-0.46089943 -0.42780552 -0.36741744 -0.5661381  -0.38606507]\n",
      " [ 0.02169618  0.05032904 -0.75648567 -0.00911887  0.65164603]\n",
      " [-0.69343825 -0.02640671  0.45457683 -0.08669334  0.55162509]\n",
      " [ 0.34013159 -0.88166588  0.17280775  0.10070537  0.25878888]] [[-0.99965548  3.75539801 -2.27534154  1.27560145 -0.76101112]\n",
      " [ 0.         -0.84391279 -0.76265135  0.76942087 -0.6008818 ]\n",
      " [ 0.          0.         -2.2630096   0.34907747  0.66822713]\n",
      " [ 0.          0.          0.          1.5426144   2.03403964]\n",
      " [ 0.          0.          0.          0.          1.96389381]]\n",
      "\n",
      "1.0000000000000002\n",
      "16.392007827749776\n",
      "17.818241836274783\n"
     ]
    }
   ],
   "source": [
    "# Matrix norms - euclidean norm/frobenius norm\n",
    "\n",
    "A = np.array([[1, 2, 3], [4, 5, 6], [7, 7, 9]])\n",
    "\n",
    "# optional orthogonal matrix to show that 2norm is 1\n",
    "Q, R = np.linalg.qr(np.random.randn(5, 5))\n",
    "print(Q, R), print('')  # Q is orthogonal, R is upper triangular\n",
    "\n",
    "# Induced 2-norm\n",
    "normInd2 = np.linalg.norm(Q, 2)  # for Q is 1, since it just rotates the vector\n",
    "print(normInd2)\n",
    "\n",
    "# Frobenius norm\n",
    "normFrob = np.linalg.norm(A, 2)\n",
    "print(normFrob)\n",
    "\n",
    "# Schatten p-norm\n",
    "p = 1\n",
    "s = np.linalg.svd(A)[1]  # Get singular values\n",
    "normSchat = np.sum(s**p)**(1/p)\n",
    "print(normSchat)"
   ]
  },
  {
   "cell_type": "code",
   "execution_count": 192,
   "id": "4128ce56",
   "metadata": {},
   "outputs": [
    {
     "name": "stdout",
     "output_type": "stream",
     "text": [
      "7.376114637879223 7.376114637879223\n"
     ]
    }
   ],
   "source": [
    "# Code challenge - <Av, w> = <v, Aw> if A is symmetric and square, v and w dimensions match\n",
    "\n",
    "\n",
    "m = 5\n",
    "A = np.random.randn(m, m)\n",
    "A = A@A.T\n",
    "\n",
    "v = np.random.randn(m)\n",
    "w = np.random.randn(m)\n",
    "\n",
    "print(np.dot(A@v, w), np.dot(v, A@w))"
   ]
  },
  {
   "cell_type": "code",
   "execution_count": 208,
   "id": "b5514807",
   "metadata": {},
   "outputs": [
    {
     "name": "stdout",
     "output_type": "stream",
     "text": [
      "0.0\n",
      "1.0\n",
      "0.6457962435247935\n"
     ]
    },
    {
     "data": {
      "image/png": "[encoded data removed]",
      "text/plain": [
       "<Figure size 432x288 with 1 Axes>"
      ]
     },
     "metadata": {
      "needs_background": "light"
     },
     "output_type": "display_data"
    }
   ],
   "source": [
    "# Code challenge - matrix asymmetry index\n",
    "\n",
    "# Part1 - implement MAI\n",
    "m = 2\n",
    "def MAI(A):\n",
    "    Aanti = (A - A.T)/2\n",
    "    mai = np.linalg.norm(Aanti)/np.linalg.norm(A)\n",
    "    return mai\n",
    "\n",
    "# Part2 - compute MAI for symmetric, skew-symmetrix and random matrix\n",
    "\n",
    "A = np.random.randn(m, m)\n",
    "S = (A+A.T)/2  # Symmetric matrix\n",
    "print(MAI(S))\n",
    "\n",
    "S_skew = (A-A.T)/2  # Skew symmetric matrix\n",
    "print(MAI(S_skew))\n",
    "\n",
    "print(MAI(A))\n",
    "\n",
    "# Part 3 - formula for mixing skew/symmetric matrices\n",
    "\n",
    "p = 0\n",
    "B = (1-p)*(A+A.T)/2 + p*(A-A.T)/2  # p lies between 0 and 1\n",
    "ps = np.linspace(0, 1, 100)\n",
    "mai = np.zeros(len(ps))\n",
    "\n",
    "for i in range(len(ps)):\n",
    "    p = ps[i]\n",
    "    B = (1-p)*(A+A.T)/2 + p*(A-A.T)/2\n",
    "    mai[i] = MAI(B)\n",
    "\n",
    "plt.plot(ps, mai, 's-')\n",
    "plt.xlabel('Empirical MAI')\n",
    "plt.ylabel('Proportion p')\n",
    "plt.show()"
   ]
  },
  {
   "cell_type": "code",
   "execution_count": null,
   "id": "2e9a7357",
   "metadata": {},
   "outputs": [],
   "source": []
  }
 ],
 "metadata": {
  "kernelspec": {
   "display_name": "Python 3 (ipykernel)",
   "language": "python",
   "name": "python3"
  },
  "language_info": {
   "codemirror_mode": {
    "name": "ipython",
    "version": 3
   },
   "file_extension": ".py",
   "mimetype": "text/x-python",
   "name": "python",
   "nbconvert_exporter": "python",
   "pygments_lexer": "ipython3",
   "version": "3.9.7"
  }
 },
 "nbformat": 4,
 "nbformat_minor": 5
}
